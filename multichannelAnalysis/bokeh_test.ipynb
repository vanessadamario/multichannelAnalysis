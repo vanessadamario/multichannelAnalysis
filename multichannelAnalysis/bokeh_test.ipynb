{
 "cells": [
  {
   "cell_type": "markdown",
   "metadata": {},
   "source": [
    "# Bokeh short example\n",
    "\n",
    "Here we show how to save plots in an html using bokeh, so to visualize the signal without running a jupyter notebook. For more reference check here https://bokeh.pydata.org/en/latest/docs/user_guide/layout.html"
   ]
  },
  {
   "cell_type": "code",
   "execution_count": 1,
   "metadata": {
    "collapsed": true
   },
   "outputs": [],
   "source": [
    "import numpy as np\n",
    "\n",
    "import bokeh\n",
    "from bokeh.document import Document\n",
    "from bokeh.embed import file_html\n",
    "from bokeh.layouts import gridplot\n",
    "from bokeh.models import Range1d\n",
    "from bokeh.resources import INLINE\n",
    "from bokeh.util.browser import view\n",
    "from bokeh.plotting import figure, show, output_notebook, output_file"
   ]
  },
  {
   "cell_type": "code",
   "execution_count": 3,
   "metadata": {
    "collapsed": false
   },
   "outputs": [],
   "source": [
    "# one dimensional signal - sin function + gaussian noise\n",
    "\n",
    "mint, maxt, n = 0, 10, 10000   # min time, max time, #points\n",
    "s = 0.1                        # standard deviation for noise\n",
    "f = 0.5                        # signal frequency\n",
    "\n",
    "t = np.linspace(mint, maxt, n) # time array\n",
    "x = np.sin(2 * np.pi * f * t) + s * np.random.randn(n)  # sin function + gaussian noise"
   ]
  },
  {
   "cell_type": "code",
   "execution_count": 13,
   "metadata": {
    "collapsed": true
   },
   "outputs": [],
   "source": [
    "?? gridplot"
   ]
  },
  {
   "cell_type": "code",
   "execution_count": 6,
   "metadata": {
    "collapsed": false
   },
   "outputs": [
    {
     "name": "stdout",
     "output_type": "stream",
     "text": [
      "Wrote timeseries.html\n"
     ]
    }
   ],
   "source": [
    "# we want to create a grid of plots on separate canvases\n",
    "# so we need an empty list\n",
    "row = []  # empty list\n",
    "\n",
    "#  we create an object plot, for which we specify title and dimensions \n",
    "w, h = 1500, 300    # width and height for bokeh object\n",
    "plot = figure(title=\"example\", plot_width=w, plot_height=h)  \n",
    "\n",
    "#  function line corresponds to plt.plot()\n",
    "plot.line(x=t, y=x)\n",
    "\n",
    "#  function y_range corresponds to plt.ylim([])\n",
    "minb, maxb = -2, 2  # min and max lim \n",
    "plot.y_range=Range1d(minb, maxb)\n",
    "\n",
    "#  we set the labels for both axis\n",
    "plot.xaxis.axis_label = 'Time [s]'\n",
    "plot.yaxis.axis_label = 'Amplitude'\n",
    "\n",
    "#  and we append to each row the object plot\n",
    "row.append([plot])\n",
    "\n",
    "# grid is what we need for multiple plots\n",
    "grid = gridplot(row)\n",
    "\n",
    "# class needed to save the html\n",
    "doc = Document()\n",
    "\n",
    "doc.add_root(grid)  # we pass the grid, so to save the plots\n",
    "doc.validate()      # perform integrity checks on the modes in this document\n",
    "filename = \"timeseries.html\"\n",
    "with open(filename, \"w\") as f:\n",
    "    f.write(file_html(doc, INLINE, \"Time series\"))  \n",
    "    # return an HTML document that embeds Bokeh Model or Document objects\n",
    "print(\"Wrote %s\" % filename)\n",
    "view(filename)"
   ]
  },
  {
   "cell_type": "code",
   "execution_count": 27,
   "metadata": {
    "collapsed": false
   },
   "outputs": [
    {
     "name": "stdout",
     "output_type": "stream",
     "text": [
      "Wrote outliers.html\n"
     ]
    }
   ],
   "source": [
    "row = []\n",
    "w, h = 500, 300    # width and height for bokeh object\n",
    "minb, maxb = -2, 2  # min and max lim \n",
    "\n",
    "for i in range(2):\n",
    "    \n",
    "    idx = np.abs(x) > 1\n",
    "    plot1 = figure(title=\"outliers\", plot_width=w, plot_height=h)\n",
    "    plot1.line(t, x)\n",
    "    plot1.xaxis.axis_label = 'Time [s]'\n",
    "    plot1.yaxis.axis_label = 'Voltage [micro V]'\n",
    "    plot1.y_range=Range1d(minb, maxb)\n",
    "    plot1.circle(t[idx], x[idx], color=\"orange\")\n",
    "\n",
    "    plot2 = figure(plot_width=w, plot_height=h)\n",
    "    plot2.y_range=Range1d(minb, maxb)\n",
    "    plot2.line(t, x)\n",
    "\n",
    "    p = gridplot([[plot1, plot2]], sizing_mode='fixed')  # two plots in the same row\n",
    "\n",
    "    row.append([p])\n",
    "\n",
    "grid = gridplot(row)\n",
    "doc = Document()\n",
    "doc.add_root(grid)\n",
    "doc.validate()\n",
    "filename = \"outliers.html\"\n",
    "with open(filename, \"w\") as f:\n",
    "    f.write(file_html(doc, INLINE, \"Time series\"))\n",
    "print(\"Wrote %s\" % filename)\n",
    "view(filename)"
   ]
  },
  {
   "cell_type": "code",
   "execution_count": null,
   "metadata": {
    "collapsed": true
   },
   "outputs": [],
   "source": []
  }
 ],
 "metadata": {
  "kernelspec": {
   "display_name": "Python [conda env:anaconda]",
   "language": "python",
   "name": "conda-env-anaconda-py"
  },
  "language_info": {
   "codemirror_mode": {
    "name": "ipython",
    "version": 2
   },
   "file_extension": ".py",
   "mimetype": "text/x-python",
   "name": "python",
   "nbconvert_exporter": "python",
   "pygments_lexer": "ipython2",
   "version": "2.7.14"
  }
 },
 "nbformat": 4,
 "nbformat_minor": 1
}
