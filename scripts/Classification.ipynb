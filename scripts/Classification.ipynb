{
 "cells": [
  {
   "cell_type": "markdown",
   "metadata": {},
   "source": [
    "# Explain feature extraction and classification pipeline\n",
    "\n",
    "First we need the data to be in a proper format. For this scope we require the data to be collected for each patient in pandas dataframe, .pkl format  \n",
    "**columns = [time series length, Y, PTD, xcoor, ycoor, zcoor]**  \n",
    "**rows = [differential measures - channels name]**"
   ]
  },
  {
   "cell_type": "code",
   "execution_count": 1,
   "metadata": {
    "collapsed": true
   },
   "outputs": [],
   "source": [
    "import numpy as np\n",
    "import pandas as pd"
   ]
  },
  {
   "cell_type": "code",
   "execution_count": 2,
   "metadata": {
    "collapsed": true
   },
   "outputs": [],
   "source": [
    "df = pd.read_pickle(\"data.pkl\")"
   ]
  },
  {
   "cell_type": "code",
   "execution_count": 3,
   "metadata": {},
   "outputs": [
    {
     "data": {
      "text/html": [
       "<div>\n",
       "<style scoped>\n",
       "    .dataframe tbody tr th:only-of-type {\n",
       "        vertical-align: middle;\n",
       "    }\n",
       "\n",
       "    .dataframe tbody tr th {\n",
       "        vertical-align: top;\n",
       "    }\n",
       "\n",
       "    .dataframe thead th {\n",
       "        text-align: right;\n",
       "    }\n",
       "</style>\n",
       "<table border=\"1\" class=\"dataframe\">\n",
       "  <thead>\n",
       "    <tr style=\"text-align: right;\">\n",
       "      <th></th>\n",
       "      <th>0</th>\n",
       "      <th>1</th>\n",
       "      <th>2</th>\n",
       "      <th>3</th>\n",
       "      <th>4</th>\n",
       "      <th>5</th>\n",
       "      <th>6</th>\n",
       "      <th>7</th>\n",
       "      <th>8</th>\n",
       "      <th>9</th>\n",
       "      <th>...</th>\n",
       "      <th>901295</th>\n",
       "      <th>901296</th>\n",
       "      <th>901297</th>\n",
       "      <th>901298</th>\n",
       "      <th>901299</th>\n",
       "      <th>Y</th>\n",
       "      <th>PTD</th>\n",
       "      <th>xcoor</th>\n",
       "      <th>ycoor</th>\n",
       "      <th>zcoor</th>\n",
       "    </tr>\n",
       "    <tr>\n",
       "      <th>0</th>\n",
       "      <th></th>\n",
       "      <th></th>\n",
       "      <th></th>\n",
       "      <th></th>\n",
       "      <th></th>\n",
       "      <th></th>\n",
       "      <th></th>\n",
       "      <th></th>\n",
       "      <th></th>\n",
       "      <th></th>\n",
       "      <th></th>\n",
       "      <th></th>\n",
       "      <th></th>\n",
       "      <th></th>\n",
       "      <th></th>\n",
       "      <th></th>\n",
       "      <th></th>\n",
       "      <th></th>\n",
       "      <th></th>\n",
       "      <th></th>\n",
       "      <th></th>\n",
       "    </tr>\n",
       "  </thead>\n",
       "  <tbody>\n",
       "    <tr>\n",
       "      <th>J01-J02</th>\n",
       "      <td>34.863281</td>\n",
       "      <td>34.960938</td>\n",
       "      <td>35.937500</td>\n",
       "      <td>36.132812</td>\n",
       "      <td>39.062500</td>\n",
       "      <td>40.625000</td>\n",
       "      <td>44.238281</td>\n",
       "      <td>45.117188</td>\n",
       "      <td>46.679688</td>\n",
       "      <td>46.093750</td>\n",
       "      <td>...</td>\n",
       "      <td>-120.214844</td>\n",
       "      <td>-117.968750</td>\n",
       "      <td>-115.429688</td>\n",
       "      <td>-113.378906</td>\n",
       "      <td>-114.062500</td>\n",
       "      <td>1</td>\n",
       "      <td>0.98</td>\n",
       "      <td>9.26417</td>\n",
       "      <td>-6.50547</td>\n",
       "      <td>66.9802</td>\n",
       "    </tr>\n",
       "    <tr>\n",
       "      <th>J02-J03</th>\n",
       "      <td>-8.496094</td>\n",
       "      <td>-9.179688</td>\n",
       "      <td>-11.035156</td>\n",
       "      <td>-12.500000</td>\n",
       "      <td>-14.257812</td>\n",
       "      <td>-11.621094</td>\n",
       "      <td>-6.054688</td>\n",
       "      <td>3.320312</td>\n",
       "      <td>10.351562</td>\n",
       "      <td>17.675781</td>\n",
       "      <td>...</td>\n",
       "      <td>-208.593750</td>\n",
       "      <td>-206.640625</td>\n",
       "      <td>-207.031250</td>\n",
       "      <td>-209.863281</td>\n",
       "      <td>-212.695312</td>\n",
       "      <td>1</td>\n",
       "      <td>0.74</td>\n",
       "      <td>11.01530</td>\n",
       "      <td>-7.68286</td>\n",
       "      <td>69.0655</td>\n",
       "    </tr>\n",
       "    <tr>\n",
       "      <th>J03-J04</th>\n",
       "      <td>-280.761719</td>\n",
       "      <td>-281.542969</td>\n",
       "      <td>-281.640625</td>\n",
       "      <td>-280.761719</td>\n",
       "      <td>-283.105469</td>\n",
       "      <td>-286.230469</td>\n",
       "      <td>-292.187500</td>\n",
       "      <td>-298.339844</td>\n",
       "      <td>-304.492188</td>\n",
       "      <td>-306.835938</td>\n",
       "      <td>...</td>\n",
       "      <td>171.582031</td>\n",
       "      <td>168.457031</td>\n",
       "      <td>168.359375</td>\n",
       "      <td>167.773438</td>\n",
       "      <td>166.699219</td>\n",
       "      <td>1</td>\n",
       "      <td>1.00</td>\n",
       "      <td>13.17670</td>\n",
       "      <td>-9.00571</td>\n",
       "      <td>71.4797</td>\n",
       "    </tr>\n",
       "    <tr>\n",
       "      <th>J08-J09</th>\n",
       "      <td>216.503906</td>\n",
       "      <td>220.605469</td>\n",
       "      <td>223.535156</td>\n",
       "      <td>226.367188</td>\n",
       "      <td>229.394531</td>\n",
       "      <td>231.445312</td>\n",
       "      <td>235.546875</td>\n",
       "      <td>238.867188</td>\n",
       "      <td>244.824219</td>\n",
       "      <td>251.074219</td>\n",
       "      <td>...</td>\n",
       "      <td>198.437500</td>\n",
       "      <td>199.609375</td>\n",
       "      <td>202.246094</td>\n",
       "      <td>202.734375</td>\n",
       "      <td>199.804688</td>\n",
       "      <td>-1</td>\n",
       "      <td>-0.38</td>\n",
       "      <td>23.98340</td>\n",
       "      <td>-15.61990</td>\n",
       "      <td>83.5511</td>\n",
       "    </tr>\n",
       "    <tr>\n",
       "      <th>J09-J10</th>\n",
       "      <td>110.351562</td>\n",
       "      <td>105.273438</td>\n",
       "      <td>100.683594</td>\n",
       "      <td>94.042969</td>\n",
       "      <td>86.718750</td>\n",
       "      <td>79.101562</td>\n",
       "      <td>75.683594</td>\n",
       "      <td>69.531250</td>\n",
       "      <td>59.375000</td>\n",
       "      <td>47.656250</td>\n",
       "      <td>...</td>\n",
       "      <td>-25.000000</td>\n",
       "      <td>-23.925781</td>\n",
       "      <td>-23.632812</td>\n",
       "      <td>-21.777344</td>\n",
       "      <td>-19.824219</td>\n",
       "      <td>-1</td>\n",
       "      <td>0.61</td>\n",
       "      <td>26.14470</td>\n",
       "      <td>-16.94280</td>\n",
       "      <td>85.9653</td>\n",
       "    </tr>\n",
       "  </tbody>\n",
       "</table>\n",
       "<p>5 rows × 901305 columns</p>\n",
       "</div>"
      ],
      "text/plain": [
       "                  0           1           2           3           4  \\\n",
       "0                                                                     \n",
       "J01-J02   34.863281   34.960938   35.937500   36.132812   39.062500   \n",
       "J02-J03   -8.496094   -9.179688  -11.035156  -12.500000  -14.257812   \n",
       "J03-J04 -280.761719 -281.542969 -281.640625 -280.761719 -283.105469   \n",
       "J08-J09  216.503906  220.605469  223.535156  226.367188  229.394531   \n",
       "J09-J10  110.351562  105.273438  100.683594   94.042969   86.718750   \n",
       "\n",
       "                  5           6           7           8           9   ...     \\\n",
       "0                                                                     ...      \n",
       "J01-J02   40.625000   44.238281   45.117188   46.679688   46.093750   ...      \n",
       "J02-J03  -11.621094   -6.054688    3.320312   10.351562   17.675781   ...      \n",
       "J03-J04 -286.230469 -292.187500 -298.339844 -304.492188 -306.835938   ...      \n",
       "J08-J09  231.445312  235.546875  238.867188  244.824219  251.074219   ...      \n",
       "J09-J10   79.101562   75.683594   69.531250   59.375000   47.656250   ...      \n",
       "\n",
       "             901295      901296      901297      901298      901299  Y   PTD  \\\n",
       "0                                                                              \n",
       "J01-J02 -120.214844 -117.968750 -115.429688 -113.378906 -114.062500  1  0.98   \n",
       "J02-J03 -208.593750 -206.640625 -207.031250 -209.863281 -212.695312  1  0.74   \n",
       "J03-J04  171.582031  168.457031  168.359375  167.773438  166.699219  1  1.00   \n",
       "J08-J09  198.437500  199.609375  202.246094  202.734375  199.804688 -1 -0.38   \n",
       "J09-J10  -25.000000  -23.925781  -23.632812  -21.777344  -19.824219 -1  0.61   \n",
       "\n",
       "            xcoor     ycoor    zcoor  \n",
       "0                                     \n",
       "J01-J02   9.26417  -6.50547  66.9802  \n",
       "J02-J03  11.01530  -7.68286  69.0655  \n",
       "J03-J04  13.17670  -9.00571  71.4797  \n",
       "J08-J09  23.98340 -15.61990  83.5511  \n",
       "J09-J10  26.14470 -16.94280  85.9653  \n",
       "\n",
       "[5 rows x 901305 columns]"
      ]
     },
     "execution_count": 3,
     "metadata": {},
     "output_type": "execute_result"
    }
   ],
   "source": [
    "df.head()"
   ]
  },
  {
   "cell_type": "markdown",
   "metadata": {},
   "source": [
    "Now we can preprocess the data using the featureExtraction class. The preprocessing consists in several steps, where we first filter 50 Hz and harmonics. We can specify other powerline, if 60 Hz or others. There are several methods, each returns a specific set of features that will be used in classification."
   ]
  },
  {
   "cell_type": "code",
   "execution_count": 4,
   "metadata": {
    "collapsed": true
   },
   "outputs": [],
   "source": [
    "from featureExtraction import remove_powerline, featureExtractionTimeSeries"
   ]
  },
  {
   "cell_type": "code",
   "execution_count": 5,
   "metadata": {},
   "outputs": [
    {
     "data": {
      "text/plain": [
       "((91, 901305), (91, 901300))"
      ]
     },
     "execution_count": 5,
     "metadata": {},
     "output_type": "execute_result"
    }
   ],
   "source": [
    "timeseries = df.values[:, :-5]  # we exclude the last five columns - Y, PTD, xcoor, ycoor, zcoor\n",
    "df.shape, timeseries.shape"
   ]
  },
  {
   "cell_type": "code",
   "execution_count": 6,
   "metadata": {},
   "outputs": [
    {
     "name": "stdout",
     "output_type": "stream",
     "text": [
      "(0.098000000000000004, 0.10199999999999999)\n"
     ]
    },
    {
     "ename": "NameError",
     "evalue": "global name 'data' is not defined",
     "output_type": "error",
     "traceback": [
      "\u001b[0;31m---------------------------------------------------------------------------\u001b[0m",
      "\u001b[0;31mNameError\u001b[0m                                 Traceback (most recent call last)",
      "\u001b[0;32m<ipython-input-6-67e05b422041>\u001b[0m in \u001b[0;36m<module>\u001b[0;34m()\u001b[0m\n\u001b[0;32m----> 1\u001b[0;31m \u001b[0mFE\u001b[0m \u001b[0;34m=\u001b[0m \u001b[0mfeatureExtractionTimeSeries\u001b[0m\u001b[0;34m(\u001b[0m\u001b[0mtimeseries\u001b[0m\u001b[0;34m,\u001b[0m \u001b[0mfs\u001b[0m\u001b[0;34m=\u001b[0m\u001b[0;36m1000.\u001b[0m\u001b[0;34m,\u001b[0m \u001b[0mpowerline\u001b[0m\u001b[0;34m=\u001b[0m\u001b[0;36m50.\u001b[0m\u001b[0;34m,\u001b[0m \u001b[0mrmpowerline\u001b[0m\u001b[0;34m=\u001b[0m\u001b[0mTrue\u001b[0m\u001b[0;34m)\u001b[0m\u001b[0;34m\u001b[0m\u001b[0m\n\u001b[0m",
      "\u001b[0;32m/home/vanessa/src/multichannelAnalysis/multichannelAnalysis/featureExtraction.py\u001b[0m in \u001b[0;36m__init__\u001b[0;34m(self, X, fs, rmpowerline, powerline)\u001b[0m\n\u001b[1;32m     95\u001b[0m \u001b[0;34m\u001b[0m\u001b[0m\n\u001b[1;32m     96\u001b[0m         \u001b[0;32mif\u001b[0m \u001b[0mself\u001b[0m\u001b[0;34m.\u001b[0m\u001b[0mrmpowerline\u001b[0m\u001b[0;34m:\u001b[0m\u001b[0;34m\u001b[0m\u001b[0m\n\u001b[0;32m---> 97\u001b[0;31m             \u001b[0mself\u001b[0m\u001b[0;34m.\u001b[0m\u001b[0mX\u001b[0m \u001b[0;34m=\u001b[0m \u001b[0mremove_powerline\u001b[0m\u001b[0;34m(\u001b[0m\u001b[0mself\u001b[0m\u001b[0;34m.\u001b[0m\u001b[0mX\u001b[0m\u001b[0;34m,\u001b[0m \u001b[0mself\u001b[0m\u001b[0;34m.\u001b[0m\u001b[0mfs\u001b[0m\u001b[0;34m,\u001b[0m \u001b[0mself\u001b[0m\u001b[0;34m.\u001b[0m\u001b[0mpowerline\u001b[0m\u001b[0;34m)\u001b[0m\u001b[0;34m\u001b[0m\u001b[0m\n\u001b[0m\u001b[1;32m     98\u001b[0m \u001b[0;34m\u001b[0m\u001b[0m\n\u001b[1;32m     99\u001b[0m \u001b[0;34m\u001b[0m\u001b[0m\n",
      "\u001b[0;32m/home/vanessa/src/multichannelAnalysis/multichannelAnalysis/featureExtraction.py\u001b[0m in \u001b[0;36mremove_powerline\u001b[0;34m(X, fs, powerline, bandstopwidth, filterorder)\u001b[0m\n\u001b[1;32m     59\u001b[0m     \u001b[0mfilteraction\u001b[0m \u001b[0;34m=\u001b[0m \u001b[0;34m'bandstop'\u001b[0m\u001b[0;34m\u001b[0m\u001b[0m\n\u001b[1;32m     60\u001b[0m     \u001b[0;32mfor\u001b[0m \u001b[0mf\u001b[0m \u001b[0;32min\u001b[0m \u001b[0mharmonics\u001b[0m\u001b[0;34m:\u001b[0m\u001b[0;34m\u001b[0m\u001b[0m\n\u001b[0;32m---> 61\u001b[0;31m         \u001b[0mX\u001b[0m \u001b[0;34m=\u001b[0m \u001b[0mbandfilter\u001b[0m\u001b[0;34m(\u001b[0m\u001b[0mX\u001b[0m\u001b[0;34m,\u001b[0m \u001b[0mfs\u001b[0m\u001b[0;34m,\u001b[0m \u001b[0mf\u001b[0m\u001b[0;34m,\u001b[0m \u001b[0mbandstopwidth\u001b[0m\u001b[0;34m)\u001b[0m\u001b[0;34m\u001b[0m\u001b[0m\n\u001b[0m\u001b[1;32m     62\u001b[0m     \u001b[0;32mreturn\u001b[0m \u001b[0mX\u001b[0m\u001b[0;34m\u001b[0m\u001b[0m\n\u001b[1;32m     63\u001b[0m \u001b[0;34m\u001b[0m\u001b[0m\n",
      "\u001b[0;32m/home/vanessa/src/multichannelAnalysis/multichannelAnalysis/featureExtraction.py\u001b[0m in \u001b[0;36mbandfilter\u001b[0;34m(X, fs, centralf, band, order, filtertype, filteraction)\u001b[0m\n\u001b[1;32m     36\u001b[0m                      analog=False, ftype=filtertype)  # iir filter\n\u001b[1;32m     37\u001b[0m \u001b[0;34m\u001b[0m\u001b[0m\n\u001b[0;32m---> 38\u001b[0;31m     \u001b[0;32mreturn\u001b[0m \u001b[0mlfilter\u001b[0m\u001b[0;34m(\u001b[0m\u001b[0mb\u001b[0m\u001b[0;34m,\u001b[0m \u001b[0ma\u001b[0m\u001b[0;34m,\u001b[0m \u001b[0mdata\u001b[0m\u001b[0;34m,\u001b[0m \u001b[0maxis\u001b[0m\u001b[0;34m=\u001b[0m\u001b[0;36m1\u001b[0m\u001b[0;34m)\u001b[0m\u001b[0;34m\u001b[0m\u001b[0m\n\u001b[0m\u001b[1;32m     39\u001b[0m \u001b[0;34m\u001b[0m\u001b[0m\n\u001b[1;32m     40\u001b[0m \u001b[0;31m# notch\u001b[0m\u001b[0;34m\u001b[0m\u001b[0;34m\u001b[0m\u001b[0m\n",
      "\u001b[0;31mNameError\u001b[0m: global name 'data' is not defined"
     ]
    }
   ],
   "source": [
    "FE = featureExtractionTimeSeries(timeseries, fs=1000., powerline=50., rmpowerline=True)"
   ]
  },
  {
   "cell_type": "code",
   "execution_count": null,
   "metadata": {
    "collapsed": true
   },
   "outputs": [],
   "source": []
  }
 ],
 "metadata": {
  "kernelspec": {
   "display_name": "Python 2",
   "language": "python",
   "name": "python2"
  },
  "language_info": {
   "codemirror_mode": {
    "name": "ipython",
    "version": 2
   },
   "file_extension": ".py",
   "mimetype": "text/x-python",
   "name": "python",
   "nbconvert_exporter": "python",
   "pygments_lexer": "ipython2",
   "version": "2.7.13"
  }
 },
 "nbformat": 4,
 "nbformat_minor": 2
}
